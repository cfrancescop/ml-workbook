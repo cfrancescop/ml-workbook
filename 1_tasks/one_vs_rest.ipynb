{
 "cells": [
  {
   "cell_type": "markdown",
   "metadata": {},
   "source": [
    "# Experiments with the one vs rest  multiclass classification scheme"
   ]
  },
  {
   "cell_type": "code",
   "execution_count": 1,
   "metadata": {
    "collapsed": true
   },
   "outputs": [],
   "source": [
    "%matplotlib inline\n",
    "\n",
    "from sklearn import datasets\n",
    "from sklearn.multiclass import OneVsRestClassifier as OvR\n",
    "from sklearn.svm import LinearSVC\n",
    "import numpy as np\n",
    "import copy\n",
    "from matplotlib import pyplot as plt"
   ]
  },
  {
   "cell_type": "code",
   "execution_count": 2,
   "metadata": {
    "collapsed": false
   },
   "outputs": [],
   "source": [
    "digits = datasets.load_digits()"
   ]
  },
  {
   "cell_type": "markdown",
   "metadata": {},
   "source": [
    "We will use the \"Optical Recognition of Handwritten Digits Data Set\" from UCI (included in scikit learn and already loaded on the previous line). Let us plot the first 10 images in the dataset."
   ]
  },
  {
   "cell_type": "code",
   "execution_count": 3,
   "metadata": {
    "collapsed": false
   },
   "outputs": [
    {
     "data": {
      "image/png": "[encoded data removed]",
      "text/plain": [
       "<matplotlib.figure.Figure at 0x9d0c550>"
      ]
     },
     "metadata": {},
     "output_type": "display_data"
    }
   ],
   "source": [
    "for index, image in enumerate(digits.images[:10]):\n",
    "    plt.subplot(2, 5, index + 1)\n",
    "    plt.imshow(image, cmap=plt.cm.gray_r, interpolation='nearest')"
   ]
  },
  {
   "cell_type": "markdown",
   "metadata": {},
   "source": [
    "Let us create a training set using the first 1000 images and a test set using the rest of the data."
   ]
  },
  {
   "cell_type": "code",
   "execution_count": 4,
   "metadata": {
    "collapsed": false
   },
   "outputs": [],
   "source": [
    "X,y = digits.data[0:1000], digits.target[0:1000]\n",
    "X_test, y_test = digits.data[1000:], digits.target[1000:]"
   ]
  },
  {
   "cell_type": "markdown",
   "metadata": {},
   "source": [
    "scikit-learn provide us with an One-Vs-Rest classifier that we already imported with name `OvR`. Let us use that classifier to fit the training set and to make predictions over the test set:"
   ]
  },
  {
   "cell_type": "code",
   "execution_count": 5,
   "metadata": {
    "collapsed": false
   },
   "outputs": [],
   "source": [
    "binaryLearner = LinearSVC(random_state=0)\n",
    "oneVrestLearningAlgorithm = OvR(binaryLearner)\n",
    "oneVrestLearningAlgorithm.fit(X,y)\n",
    "predicted_labels = oneVrestLearningAlgorithm.predict(X_test)\n",
    "\n",
    "# n.b.: the above is equivalent to:\n",
    "# predicted_labels = OvR(LinearSVC(random_state=0)).fit(X,y).predict(X_test)"
   ]
  },
  {
   "cell_type": "code",
   "execution_count": 6,
   "metadata": {
    "collapsed": false
   },
   "outputs": [
    {
     "name": "stdout",
     "output_type": "stream",
     "text": [
      "Accuracy: 0.908406524467\n"
     ]
    }
   ],
   "source": [
    "print (\"Accuracy: %s\" % (1.0 - np.count_nonzero(y_test - predicted_labels) / float(len(predicted_labels))))"
   ]
  },
  {
   "cell_type": "markdown",
   "metadata": {},
   "source": [
    "# Exercise"
   ]
  },
  {
   "cell_type": "markdown",
   "metadata": {},
   "source": [
    "Reimplement the OvR classifier by completing the methods in the following class [[1](#hint1)]:"
   ]
  },
  {
   "cell_type": "code",
   "execution_count": 7,
   "metadata": {
    "collapsed": false
   },
   "outputs": [],
   "source": [
    "import numpy as np\n",
    "from sklearn.base import clone\n",
    "class OneVsRestClassifier:\n",
    "    \"\"\"\n",
    "    Parameters\n",
    "    ----------\n",
    "    classifier : classifier object\n",
    "        An estimator object implementing `fit` and one of `decision_function`\n",
    "    Attributes\n",
    "    ----------\n",
    "    estimators_ : list of `n_classes` estimators\n",
    "        Estimators used for predictions.\n",
    "    classes_ : dictionary label => index of label,shape = [`n_classes`]\n",
    "        class labels array\n",
    "    look_up_table : array, shape['n_classes']\n",
    "    \"\"\"\n",
    "    #constructor\n",
    "    def __init__(self, classifier):\n",
    "        self.classifier= classifier\n",
    "        #init should return none\n",
    "    \n",
    "    def fit_class(self, data, ovr_labels,class_):\n",
    "        \"\"\"Fit a single binary estimator.\"\"\"\n",
    "        ix = self.classes_[class_]\n",
    "        #print(ovr_labels)\n",
    "        #print(ix)\n",
    "        labels = ovr_labels[:,ix]#colonna\n",
    "        estimator =clone(self.classifier)\n",
    "        #print(labels)\n",
    "        estimator.fit(data, labels)\n",
    "        return estimator\n",
    "    \n",
    "    def relabel(self,label):\n",
    "        index = self.classes_[label]\n",
    "        row = self.look_up_table[index]\n",
    "        return row\n",
    "    \n",
    "    def fit(self, data, labels):\n",
    "        \"\"\"Fit underlying estimators.\n",
    "        Parameters\n",
    "        ----------\n",
    "        data : (sparse) array-like, shape = [n_samples, n_features]\n",
    "            Data.\n",
    "        labels : (sparse) array-like, shape = [n_samples, ], [n_samples, n_classes]\n",
    "            Multi-class targets. An indicator matrix turns on multilabel\n",
    "            classification.\n",
    "        Returns\n",
    "        -------\n",
    "        self\n",
    "        \"\"\"\n",
    "        neg_label = -1\n",
    "        pos_label=1\n",
    "        # get the set of distinct labels\n",
    "        classes = set(labels);\n",
    "        n_classes = len(classes)\n",
    "        # init the squared look up tableto all the negative label\n",
    "        lut = np.ones(n_classes)*neg_label+np.eye(n_classes)*(abs(neg_label-pos_label))\n",
    "        # set +1 on the main diag\n",
    "        id=0\n",
    "        #create a dictionaty of classes\n",
    "        classes_ = dict()\n",
    "        #--- binary labelling--------#\n",
    "        for i, c in enumerate(classes):\n",
    "            #assigni the enumerated integer as index of the class c\n",
    "            classes_[c]=i\n",
    "        self.classes_=classes_    \n",
    "        # now we can start learning with the classifier\n",
    "        self.look_up_table = lut\n",
    "        self.array_class = list(classes)\n",
    "        # map each label to the new labels\n",
    "        ovr_labels =np.array([self.relabel(label) for label in labels])\n",
    "        self.estimators_ =[self.fit_class(data,ovr_labels,class_) for class_ in classes]\n",
    "        return self\n",
    "    \n",
    "    def _predict_class(self,data,class_):\n",
    "        index = self.classes_[class_]\n",
    "        estimator = self.estimators_[index]\n",
    "        return estimator.predict(data)\n",
    "    \n",
    "    def predict(self, data):\n",
    "        #... to be done ...\n",
    "        predictions = np.array([self._predict_class(data,class_) for class_ in self.classes_])\n",
    "        # get the max value for each prediction\n",
    "        indexes = np.argmax(predictions, axis=0)\n",
    "        #print(indexes)\n",
    "        return [self.array_class[i] for i in indexes]"
   ]
  },
  {
   "cell_type": "markdown",
   "metadata": {},
   "source": [
    "Calculate the accuracy of your solution using the following code [[2](#hint2)]:"
   ]
  },
  {
   "cell_type": "code",
   "execution_count": 8,
   "metadata": {
    "collapsed": false
   },
   "outputs": [
    {
     "name": "stdout",
     "output_type": "stream",
     "text": [
      "Accuracy: 0.853199498118\n"
     ]
    }
   ],
   "source": [
    "ovr = OneVsRestClassifier(LinearSVC(random_state=0))\n",
    "predicted_labels = ovr.fit(X,y).predict(X_test)\n",
    "print( \"Accuracy: %s\" % (1.0-np.count_nonzero(predicted_labels-y_test)/float(len(y_test))))"
   ]
  },
  {
   "cell_type": "markdown",
   "metadata": {},
   "source": [
    "<a name=\"hint1\">Hint 1:</a> Feel free to organize your code as you like (add as many methods as you believe are necessary).\n",
    "\n",
    "<a name=\"hint2\">Hint 2:</a> The scheme provided by scikit-learn is a little different from the one we have seen in the lessons. It is normal if your accuracy is not as good as the one obtained above (expect the accuracy to be between 0.8 and 0.9)."
   ]
  },
  {
   "cell_type": "code",
   "execution_count": null,
   "metadata": {
    "collapsed": false
   },
   "outputs": [],
   "source": []
  },
  {
   "cell_type": "code",
   "execution_count": null,
   "metadata": {
    "collapsed": true
   },
   "outputs": [],
   "source": []
  },
  {
   "cell_type": "code",
   "execution_count": null,
   "metadata": {
    "collapsed": true
   },
   "outputs": [],
   "source": []
  },
  {
   "cell_type": "code",
   "execution_count": null,
   "metadata": {
    "collapsed": true
   },
   "outputs": [],
   "source": []
  },
  {
   "cell_type": "code",
   "execution_count": null,
   "metadata": {
    "collapsed": true
   },
   "outputs": [],
   "source": []
  }
 ],
 "metadata": {
  "anaconda-cloud": {},
  "kernelspec": {
   "display_name": "Python 2",
   "language": "python",
   "name": "python2"
  },
  "language_info": {
   "codemirror_mode": {
    "name": "ipython",
    "version": 2
   },
   "file_extension": ".py",
   "mimetype": "text/x-python",
   "name": "python",
   "nbconvert_exporter": "python",
   "pygments_lexer": "ipython2",
   "version": "2.7.13"
  }
 },
 "nbformat": 4,
 "nbformat_minor": 1
}
